{
 "cells": [
  {
   "cell_type": "markdown",
   "metadata": {},
   "source": [
    "# Projeto 06 - Safra - Parte 03 😎\n",
    "\n",
    "**Integrantes:**\n",
    "- Ricardo Meca\n",
    "- Youlia Saito\n",
    "- Karime Kerdahi\n",
    "- Carolina Vieira\n",
    "- Jaiana Santos\n",
    "- Leonardo Tamayose\n"
   ]
  },
  {
   "cell_type": "markdown",
   "metadata": {},
   "source": [
    "# Consumo de Energia"
   ]
  },
  {
   "cell_type": "code",
   "execution_count": null,
   "metadata": {},
   "outputs": [],
   "source": [
    "import numpy as np\n",
    "import matplotlib.pyplot as plt\n",
    "import scipy.stats as stats\n",
    "import pandas as pd\n",
    "import seaborn as sns\n",
    "import statsmodels.api as sm\n",
    "import statsmodels.tsa.api as smt\n",
    "\n",
    "from dateutil.parser import parse\n",
    "from datetime import datetime\n",
    "\n",
    "from statsmodels.formula.api import ols\n",
    "from statsmodels.stats.anova import anova_lm\n",
    "from statsmodels.tsa.arima_model import ARIMA\n",
    "from statsmodels.tsa.holtwinters import SimpleExpSmoothing, ExponentialSmoothing\n",
    "from statsmodels.tsa.seasonal import seasonal_decompose\n",
    "from statsmodels.tsa.statespace.sarimax import SARIMAX\n",
    "\n",
    "sns.set_context('notebook')\n",
    "sns.set_style('darkgrid')"
   ]
  },
  {
   "cell_type": "code",
   "execution_count": null,
   "metadata": {},
   "outputs": [],
   "source": [
    "path_data = './ipeadata_consumo_energia.csv'\n",
    "df = pd.read_csv(path_data, sep=';', skiprows=0)\n",
    "\n",
    "data_dia = pd.Series(df['Data'])\n",
    "consumo = pd.Series(df['Energia elétrica - consumo - residência - quantidade - GWh - Eletrobras - ELETRO12_CEERES12'])\n",
    "df = pd.DataFrame({'Data': data_dia, 'Consumo': consumo})"
   ]
  },
  {
   "cell_type": "code",
   "execution_count": null,
   "metadata": {},
   "outputs": [],
   "source": [
    "# Transformando os dados da coluna \"Data\" em string\n",
    "df[\"Data\"] = df[\"Data\"].astype('str')\n",
    "\n",
    "# Dividindo a data em dias e meses\n",
    "df[['Ano', 'Mes']] = df['Data'].str.split('.', expand=True)\n",
    "\n",
    "df['AnoMes'] = pd.to_datetime(df['Ano'] + df['Mes'], format='%Y%m')\n",
    "df['AnoMes'] = df['AnoMes'].astype('object')\n",
    "df.drop('Data', axis=1, inplace=True)\n",
    "df[\"Consumo\"] = df[\"Consumo\"].astype(str)\n",
    "df['Consumo'] = df['Consumo'].str.replace(',', '.').astype(float)\n",
    "df['Ano'] = pd.to_numeric(df['Ano'])\n",
    "df['Mes'] = pd.to_numeric(df['Mes'])"
   ]
  },
  {
   "cell_type": "code",
   "execution_count": null,
   "metadata": {},
   "outputs": [],
   "source": [
    "df[\"Consumo\"].mean()"
   ]
  },
  {
   "cell_type": "code",
   "execution_count": null,
   "metadata": {},
   "outputs": [],
   "source": [
    "plt.figure(figsize=(15,10))\n",
    "sns.scatterplot(x='AnoMes', y='Consumo', data=df, hue='Consumo', sizes=(20, 200))\n",
    "plt.xlabel('Data', size = 14)\n",
    "plt.ylabel('Consumo [GWh]', size = 14)\n",
    "plt.title('Gráfico de dispersão do Consumo em função do tempo', size = 20)"
   ]
  },
  {
   "cell_type": "code",
   "execution_count": null,
   "metadata": {},
   "outputs": [],
   "source": [
    "valor_min = df[\"Consumo\"].describe()[3]\n",
    "valor_max = df[\"Consumo\"].describe()[7]\n",
    "print(f\"O valor mínimo e máximo são: {valor_min} GWh e {valor_max} GWh\")"
   ]
  },
  {
   "cell_type": "markdown",
   "metadata": {},
   "source": [
    "### Observações sobre o gráfico acima:\n",
    "> - Atipicidade no gráfico: Há 20 anos, ocorreu um racionamento de energia na maior parte do país, com a redução compulsória de 20% do consumo de eletricidade.<br>\n",
    "    Analisando o gráfico, por volta dos anos 2000, o eixo y tinha o valor aproximado de 7500 GWh, e com a redução do consumo de energia em aproximadamente 20%, há um gap no nosso gráfico, cujo valor cai para 6000 GWh aproximadamente.<br>\n",
    "    \n",
    "> - Os componentes da série temporal são: eixo Y - Consumo em GWh e o eixo X - Data. <br>\n",
    "\n",
    "> - Os valores mínimo e máximo são, respectivamente: 1161.6 GWh e 13926.0 GWh."
   ]
  },
  {
   "cell_type": "code",
   "execution_count": null,
   "metadata": {},
   "outputs": [],
   "source": [
    "df['Consumo'].plot(kind='hist', bins=20, density=True, alpha=0.5, color='blue')\n",
    "plt.title('Histograma da frequência do Consumo', size = 20)\n",
    "plt.xlabel('Consumo [GWh]', size = 14)\n",
    "plt.ylabel('Frequência', size = 14)"
   ]
  },
  {
   "cell_type": "code",
   "execution_count": null,
   "metadata": {},
   "outputs": [],
   "source": [
    "sns.boxplot(x=df['Ano']//10 * 10, y='Consumo', data=df);\n",
    "\n",
    "x=df['Ano']//10 * 10\n",
    "plt.title('Boxplot', size = 20)\n",
    "plt.xlabel('Década', size = 14)\n",
    "plt.ylabel('Consumo [GWh]', size = 14)"
   ]
  },
  {
   "cell_type": "markdown",
   "metadata": {},
   "source": [
    "## Sazonalidade, decomposição e resíduos"
   ]
  },
  {
   "cell_type": "code",
   "execution_count": null,
   "metadata": {},
   "outputs": [],
   "source": [
    "def plot_df(df, x, y, title=\"\", xlabel='Data', ylabel='Consumo [GWh]', dpi=100):\n",
    "    plt.figure(figsize=(15,4), dpi=dpi)\n",
    "    plt.plot(x, y, color='blue')\n",
    "    plt.gca().set(title=title, xlabel=xlabel, ylabel=ylabel)\n",
    "    plt.show()\n",
    "    \n",
    "x = df['AnoMes'].values\n",
    "y1 = df['Consumo']\n",
    "plot_df(df, x = x, y= y1, title='Sazonalidade')"
   ]
  },
  {
   "cell_type": "code",
   "execution_count": null,
   "metadata": {},
   "outputs": [],
   "source": [
    "multiplicative_decomposition = seasonal_decompose(df['Consumo'], model='multiplicative', period=30)\n",
    "additive_decomposition = seasonal_decompose(df['Consumo'], model='additive', period=30)\n",
    "plt.rcParams.update({'figure.figsize': (16,12)})\n",
    "\n",
    "multiplicative_decomposition.plot().suptitle('Decomposição Multiplicativa', fontsize=16)\n",
    "plt.tight_layout(rect=[0, 0.03, 1, 0.95])\n",
    "\n",
    "additive_decomposition.plot().suptitle('Decomposição Aditiva', fontsize=16)\n",
    "plt.tight_layout(rect=[0, 0.03, 1, 0.95])\n",
    "plt.show()"
   ]
  },
  {
   "cell_type": "markdown",
   "metadata": {},
   "source": [
    "### Aqui, podemos observar que, ao analisarmos através do método multiplicativo, há um certo padrão nos resíduos mais definido do que no aditivo. No aditivo, os resíduos estão distribuidos de forma mais aleatória, o que faz essa decomposição ser a mais adequada. Podemos ainda observar que não há um comportamento normal nos resíduos."
   ]
  }
 ],
 "metadata": {
  "kernelspec": {
   "display_name": "Python 3.9.13 64-bit",
   "language": "python",
   "name": "python3"
  },
  "language_info": {
   "codemirror_mode": {
    "name": "ipython",
    "version": 3
   },
   "file_extension": ".py",
   "mimetype": "text/x-python",
   "name": "python",
   "nbconvert_exporter": "python",
   "pygments_lexer": "ipython3",
   "version": "3.9.13"
  },
  "orig_nbformat": 4,
  "vscode": {
   "interpreter": {
    "hash": "8e284ee3255a07ad8bf76694974743c4c81cb57e7c969474d752d949b11d721e"
   }
  }
 },
 "nbformat": 4,
 "nbformat_minor": 2
}
