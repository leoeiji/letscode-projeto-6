{
 "cells": [
  {
   "cell_type": "markdown",
   "metadata": {},
   "source": [
    "# Projeto 06 - Safra 😎"
   ]
  },
  {
   "cell_type": "markdown",
   "metadata": {},
   "source": [
    "| Coluna            | Tipo da variável                   |                                           Descrição |\n",
    "| :---------------- | :--------------------------------- | --------------------------------------------------: |\n",
    "| LoanNr_ChkDgt     | Quantitativa Discreta              |                              Identifier Primary key |\n",
    "| Name              | Qualitativa Nominal                |                                       Borrower name |\n",
    "| City              | Qualitativa Nominal                |                                       Borrower city |\n",
    "| State             | Qualitativa Nominal                |                                      Borrower state |\n",
    "| Zip               | Qualitativa Nominal                |                                   Borrower zip code |\n",
    "| Bank              | Qualitativa Nominal                |                                           Bank name |\n",
    "| BankState         | Qualitativa Nominal                |                                          Bank state |\n",
    "| NAICS             | Qualitativa Ordinal                |  North American industry classification system code |\n",
    "| ApprovalDate      | Qualitativa Ordinal                |                          Date SBA commitment issued |\n",
    "| ApprovalFY        | Quantitativa Discreta              |                           Fiscal year of commitment |\n",
    "| Term              | Quantitativa Discreta              |                                 Loan term in months |\n",
    "| NoEmp             | Quantitativa Discreta              |                        Number of business employees |\n",
    "| NewExist          | Qualitativa Nominal                |             1 = Existing business, 2 = New business |\n",
    "| CreateJob         | Quantitativa Discreta              |                              Number of jobs created |\n",
    "| RetainedJob       | Quantitativa Discreta              |                             Number of jobs retained |\n",
    "| FranchiseCode     | Qualitativa Nominal                |     Franchise code, (00000 or 00001) = No franchise |\n",
    "| UrbanRural        | Qualitativa Nominal                |                 1 = Urban, 2 = rural, 0 = undefined |\n",
    "| RevLineCr         | Qualitativa Nominal                |           Revolving line of credit: Y = Yes, N = No |\n",
    "| LowDoc            | Qualitativa Nominal                |                LowDoc Loan Program: Y = Yes, N = No |\n",
    "| ChgOffDate        | Qualitativa Ordinal                |   The date when a loan is declared to be in default |\n",
    "| DisbursementDate  | Qualitativa Ordinal                |                                   Disbursement date |\n",
    "| DisbursementGross | Quantitativa Contínua              |                                    Amount disbursed |\n",
    "| BalanceGross      | Quantitativa Contínua              |                            Gross amount outstanding |\n",
    "| MIS_Status        | Qualitativa Nominal                | Loan status charged off = CHGOFF, Paid in full =PIF |\n",
    "| ChgOffPrinGr      | Quantitativa Quantitativa Contínua |                                  Charged-off amount |\n",
    "| GrAppv            | Quantitativa Quantitativa Contínua |               Gross amount of loan approved by bank |\n",
    "| SBA_Appv          | Quantitativa Quantitativa Contínua |            SBA’s guaranteed amount of approved loan |\n"
   ]
  },
  {
   "cell_type": "markdown",
   "metadata": {},
   "source": [
    "| Coluna            | Tipo da variável                   |                                           Descrição |\n",
    "| :---------------- | :--------------------------------- | --------------------------------------------------: |\n",
    "| Name              | Qualitativa Nominal                |                                       Borrower name |\n",
    "| City              | Qualitativa Nominal                |                                       Borrower city |\n",
    "| State             | Qualitativa Nominal                |                                      Borrower state |\n",
    "| Bank              | Qualitativa Nominal                |                                           Bank name |\n",
    "| NAICS             | Qualitativa Ordinal                |  North American industry classification system code |\n",
    "| ApprovalDate      | Qualitativa Ordinal                |                          Date SBA commitment issued |\n",
    "| NewExist          | Qualitativa Nominal                |             1 = Existing business, 2 = New business |\n",
    "| UrbanRural        | Qualitativa Nominal                |                 1 = Urban, 2 = rural, 0 = undefined |\n",
    "| RevLineCr         | Qualitativa Nominal                |           Revolving line of credit: Y = Yes, N = No |\n",
    "| LowDoc            | Qualitativa Nominal                |                LowDoc Loan Program: Y = Yes, N = No |\n",
    "| ChgOffDate        | Qualitativa Ordinal                |   The date when a loan is declared to be in default |\n",
    "| MIS_Status        | Qualitativa Nominal                | Loan status charged off = CHGOFF, Paid in full =PIF |\n",
    "| DisbursementDate  | Qualitativa Ordinal                |                                   Disbursement date |\n",
    "| DisbursementGross | Quantitativa Contínua              |                                    Amount disbursed |\n",
    "| BalanceGross      | Quantitativa Contínua              |                            Gross amount outstanding |\n",
    "| ApprovalFY        | Quantitativa Discreta              |                           Fiscal year of commitment |\n",
    "| Term              | Quantitativa Discreta              |                                 Loan term in months |\n",
    "| NoEmp             | Quantitativa Discreta              |                        Number of business employees |\n",
    "| ChgOffPrinGr      | Quantitativa Quantitativa Contínua |                                  Charged-off amount |\n",
    "| GrAppv            | Quantitativa Quantitativa Contínua |               Gross amount of loan approved by bank |\n",
    "| SBA_Appv          | Quantitativa Quantitativa Contínua |            SBA’s guaranteed amount of approved loan |"
   ]
  },
  {
   "cell_type": "markdown",
   "metadata": {},
   "source": [
    "'Name', 'City', 'State', 'Bank', 'NAICS', 'ApprovalDate', 'ApprovalFY',\n",
    "       'Term', 'NoEmp', 'NewExist', 'UrbanRural', 'RevLineCr', 'LowDoc',\n",
    "       'ChgOffDate', 'DisbursementDate', 'DisbursementGross', 'BalanceGross',\n",
    "       'MIS_Status', 'ChgOffPrinGr', 'GrAppv', 'SBA_Appv'"
   ]
  },
  {
   "cell_type": "code",
   "execution_count": 2,
   "metadata": {},
   "outputs": [],
   "source": [
    "import pandas as pd\n",
    "import numpy as np\n",
    "import matplotlib.pyplot as plt\n",
    "import seaborn as sns\n",
    "from sklearn.preprocessing import LabelEncoder\n",
    "\n",
    "pd.set_option('display.max_columns', None)"
   ]
  },
  {
   "cell_type": "code",
   "execution_count": 3,
   "metadata": {},
   "outputs": [
    {
     "name": "stderr",
     "output_type": "stream",
     "text": [
      "C:\\Users\\leoei\\AppData\\Local\\Temp\\ipykernel_7372\\3410749164.py:1: DtypeWarning: Columns (9) have mixed types. Specify dtype option on import or set low_memory=False.\n",
      "  df_raw = pd.read_csv(\"SBAnational.csv\")\n"
     ]
    },
    {
     "data": {
      "text/html": [
       "<div>\n",
       "<style scoped>\n",
       "    .dataframe tbody tr th:only-of-type {\n",
       "        vertical-align: middle;\n",
       "    }\n",
       "\n",
       "    .dataframe tbody tr th {\n",
       "        vertical-align: top;\n",
       "    }\n",
       "\n",
       "    .dataframe thead th {\n",
       "        text-align: right;\n",
       "    }\n",
       "</style>\n",
       "<table border=\"1\" class=\"dataframe\">\n",
       "  <thead>\n",
       "    <tr style=\"text-align: right;\">\n",
       "      <th></th>\n",
       "      <th>LoanNr_ChkDgt</th>\n",
       "      <th>Name</th>\n",
       "      <th>City</th>\n",
       "      <th>State</th>\n",
       "      <th>Zip</th>\n",
       "      <th>Bank</th>\n",
       "      <th>BankState</th>\n",
       "      <th>NAICS</th>\n",
       "      <th>ApprovalDate</th>\n",
       "      <th>ApprovalFY</th>\n",
       "      <th>Term</th>\n",
       "      <th>NoEmp</th>\n",
       "      <th>NewExist</th>\n",
       "      <th>CreateJob</th>\n",
       "      <th>RetainedJob</th>\n",
       "      <th>FranchiseCode</th>\n",
       "      <th>UrbanRural</th>\n",
       "      <th>RevLineCr</th>\n",
       "      <th>LowDoc</th>\n",
       "      <th>ChgOffDate</th>\n",
       "      <th>DisbursementDate</th>\n",
       "      <th>DisbursementGross</th>\n",
       "      <th>BalanceGross</th>\n",
       "      <th>MIS_Status</th>\n",
       "      <th>ChgOffPrinGr</th>\n",
       "      <th>GrAppv</th>\n",
       "      <th>SBA_Appv</th>\n",
       "    </tr>\n",
       "  </thead>\n",
       "  <tbody>\n",
       "    <tr>\n",
       "      <th>0</th>\n",
       "      <td>1000014003</td>\n",
       "      <td>ABC HOBBYCRAFT</td>\n",
       "      <td>EVANSVILLE</td>\n",
       "      <td>IN</td>\n",
       "      <td>47711</td>\n",
       "      <td>FIFTH THIRD BANK</td>\n",
       "      <td>OH</td>\n",
       "      <td>451120</td>\n",
       "      <td>28-Feb-97</td>\n",
       "      <td>1997</td>\n",
       "      <td>84</td>\n",
       "      <td>4</td>\n",
       "      <td>2.0</td>\n",
       "      <td>0</td>\n",
       "      <td>0</td>\n",
       "      <td>1</td>\n",
       "      <td>0</td>\n",
       "      <td>N</td>\n",
       "      <td>Y</td>\n",
       "      <td>NaN</td>\n",
       "      <td>28-Feb-99</td>\n",
       "      <td>$60,000.00</td>\n",
       "      <td>$0.00</td>\n",
       "      <td>P I F</td>\n",
       "      <td>$0.00</td>\n",
       "      <td>$60,000.00</td>\n",
       "      <td>$48,000.00</td>\n",
       "    </tr>\n",
       "    <tr>\n",
       "      <th>1</th>\n",
       "      <td>1000024006</td>\n",
       "      <td>LANDMARK BAR &amp; GRILLE (THE)</td>\n",
       "      <td>NEW PARIS</td>\n",
       "      <td>IN</td>\n",
       "      <td>46526</td>\n",
       "      <td>1ST SOURCE BANK</td>\n",
       "      <td>IN</td>\n",
       "      <td>722410</td>\n",
       "      <td>28-Feb-97</td>\n",
       "      <td>1997</td>\n",
       "      <td>60</td>\n",
       "      <td>2</td>\n",
       "      <td>2.0</td>\n",
       "      <td>0</td>\n",
       "      <td>0</td>\n",
       "      <td>1</td>\n",
       "      <td>0</td>\n",
       "      <td>N</td>\n",
       "      <td>Y</td>\n",
       "      <td>NaN</td>\n",
       "      <td>31-May-97</td>\n",
       "      <td>$40,000.00</td>\n",
       "      <td>$0.00</td>\n",
       "      <td>P I F</td>\n",
       "      <td>$0.00</td>\n",
       "      <td>$40,000.00</td>\n",
       "      <td>$32,000.00</td>\n",
       "    </tr>\n",
       "    <tr>\n",
       "      <th>2</th>\n",
       "      <td>1000034009</td>\n",
       "      <td>WHITLOCK DDS, TODD M.</td>\n",
       "      <td>BLOOMINGTON</td>\n",
       "      <td>IN</td>\n",
       "      <td>47401</td>\n",
       "      <td>GRANT COUNTY STATE BANK</td>\n",
       "      <td>IN</td>\n",
       "      <td>621210</td>\n",
       "      <td>28-Feb-97</td>\n",
       "      <td>1997</td>\n",
       "      <td>180</td>\n",
       "      <td>7</td>\n",
       "      <td>1.0</td>\n",
       "      <td>0</td>\n",
       "      <td>0</td>\n",
       "      <td>1</td>\n",
       "      <td>0</td>\n",
       "      <td>N</td>\n",
       "      <td>N</td>\n",
       "      <td>NaN</td>\n",
       "      <td>31-Dec-97</td>\n",
       "      <td>$287,000.00</td>\n",
       "      <td>$0.00</td>\n",
       "      <td>P I F</td>\n",
       "      <td>$0.00</td>\n",
       "      <td>$287,000.00</td>\n",
       "      <td>$215,250.00</td>\n",
       "    </tr>\n",
       "    <tr>\n",
       "      <th>3</th>\n",
       "      <td>1000044001</td>\n",
       "      <td>BIG BUCKS PAWN &amp; JEWELRY, LLC</td>\n",
       "      <td>BROKEN ARROW</td>\n",
       "      <td>OK</td>\n",
       "      <td>74012</td>\n",
       "      <td>1ST NATL BK &amp; TR CO OF BROKEN</td>\n",
       "      <td>OK</td>\n",
       "      <td>0</td>\n",
       "      <td>28-Feb-97</td>\n",
       "      <td>1997</td>\n",
       "      <td>60</td>\n",
       "      <td>2</td>\n",
       "      <td>1.0</td>\n",
       "      <td>0</td>\n",
       "      <td>0</td>\n",
       "      <td>1</td>\n",
       "      <td>0</td>\n",
       "      <td>N</td>\n",
       "      <td>Y</td>\n",
       "      <td>NaN</td>\n",
       "      <td>30-Jun-97</td>\n",
       "      <td>$35,000.00</td>\n",
       "      <td>$0.00</td>\n",
       "      <td>P I F</td>\n",
       "      <td>$0.00</td>\n",
       "      <td>$35,000.00</td>\n",
       "      <td>$28,000.00</td>\n",
       "    </tr>\n",
       "    <tr>\n",
       "      <th>4</th>\n",
       "      <td>1000054004</td>\n",
       "      <td>ANASTASIA CONFECTIONS, INC.</td>\n",
       "      <td>ORLANDO</td>\n",
       "      <td>FL</td>\n",
       "      <td>32801</td>\n",
       "      <td>FLORIDA BUS. DEVEL CORP</td>\n",
       "      <td>FL</td>\n",
       "      <td>0</td>\n",
       "      <td>28-Feb-97</td>\n",
       "      <td>1997</td>\n",
       "      <td>240</td>\n",
       "      <td>14</td>\n",
       "      <td>1.0</td>\n",
       "      <td>7</td>\n",
       "      <td>7</td>\n",
       "      <td>1</td>\n",
       "      <td>0</td>\n",
       "      <td>N</td>\n",
       "      <td>N</td>\n",
       "      <td>NaN</td>\n",
       "      <td>14-May-97</td>\n",
       "      <td>$229,000.00</td>\n",
       "      <td>$0.00</td>\n",
       "      <td>P I F</td>\n",
       "      <td>$0.00</td>\n",
       "      <td>$229,000.00</td>\n",
       "      <td>$229,000.00</td>\n",
       "    </tr>\n",
       "  </tbody>\n",
       "</table>\n",
       "</div>"
      ],
      "text/plain": [
       "   LoanNr_ChkDgt                           Name          City State    Zip  \\\n",
       "0     1000014003                 ABC HOBBYCRAFT    EVANSVILLE    IN  47711   \n",
       "1     1000024006    LANDMARK BAR & GRILLE (THE)     NEW PARIS    IN  46526   \n",
       "2     1000034009          WHITLOCK DDS, TODD M.   BLOOMINGTON    IN  47401   \n",
       "3     1000044001  BIG BUCKS PAWN & JEWELRY, LLC  BROKEN ARROW    OK  74012   \n",
       "4     1000054004    ANASTASIA CONFECTIONS, INC.       ORLANDO    FL  32801   \n",
       "\n",
       "                            Bank BankState   NAICS ApprovalDate ApprovalFY  \\\n",
       "0               FIFTH THIRD BANK        OH  451120    28-Feb-97       1997   \n",
       "1                1ST SOURCE BANK        IN  722410    28-Feb-97       1997   \n",
       "2        GRANT COUNTY STATE BANK        IN  621210    28-Feb-97       1997   \n",
       "3  1ST NATL BK & TR CO OF BROKEN        OK       0    28-Feb-97       1997   \n",
       "4        FLORIDA BUS. DEVEL CORP        FL       0    28-Feb-97       1997   \n",
       "\n",
       "   Term  NoEmp  NewExist  CreateJob  RetainedJob  FranchiseCode  UrbanRural  \\\n",
       "0    84      4       2.0          0            0              1           0   \n",
       "1    60      2       2.0          0            0              1           0   \n",
       "2   180      7       1.0          0            0              1           0   \n",
       "3    60      2       1.0          0            0              1           0   \n",
       "4   240     14       1.0          7            7              1           0   \n",
       "\n",
       "  RevLineCr LowDoc ChgOffDate DisbursementDate DisbursementGross BalanceGross  \\\n",
       "0         N      Y        NaN        28-Feb-99       $60,000.00        $0.00    \n",
       "1         N      Y        NaN        31-May-97       $40,000.00        $0.00    \n",
       "2         N      N        NaN        31-Dec-97      $287,000.00        $0.00    \n",
       "3         N      Y        NaN        30-Jun-97       $35,000.00        $0.00    \n",
       "4         N      N        NaN        14-May-97      $229,000.00        $0.00    \n",
       "\n",
       "  MIS_Status ChgOffPrinGr        GrAppv      SBA_Appv  \n",
       "0      P I F       $0.00    $60,000.00    $48,000.00   \n",
       "1      P I F       $0.00    $40,000.00    $32,000.00   \n",
       "2      P I F       $0.00   $287,000.00   $215,250.00   \n",
       "3      P I F       $0.00    $35,000.00    $28,000.00   \n",
       "4      P I F       $0.00   $229,000.00   $229,000.00   "
      ]
     },
     "execution_count": 3,
     "metadata": {},
     "output_type": "execute_result"
    }
   ],
   "source": [
    "df_raw = pd.read_csv(\"SBAnational.csv\")\n",
    "df_raw.head()"
   ]
  },
  {
   "cell_type": "code",
   "execution_count": 4,
   "metadata": {},
   "outputs": [
    {
     "name": "stdout",
     "output_type": "stream",
     "text": [
      "<class 'pandas.core.frame.DataFrame'>\n",
      "RangeIndex: 899164 entries, 0 to 899163\n",
      "Data columns (total 27 columns):\n",
      " #   Column             Non-Null Count   Dtype  \n",
      "---  ------             --------------   -----  \n",
      " 0   LoanNr_ChkDgt      899164 non-null  int64  \n",
      " 1   Name               899150 non-null  object \n",
      " 2   City               899134 non-null  object \n",
      " 3   State              899150 non-null  object \n",
      " 4   Zip                899164 non-null  int64  \n",
      " 5   Bank               897605 non-null  object \n",
      " 6   BankState          897598 non-null  object \n",
      " 7   NAICS              899164 non-null  int64  \n",
      " 8   ApprovalDate       899164 non-null  object \n",
      " 9   ApprovalFY         899164 non-null  object \n",
      " 10  Term               899164 non-null  int64  \n",
      " 11  NoEmp              899164 non-null  int64  \n",
      " 12  NewExist           899028 non-null  float64\n",
      " 13  CreateJob          899164 non-null  int64  \n",
      " 14  RetainedJob        899164 non-null  int64  \n",
      " 15  FranchiseCode      899164 non-null  int64  \n",
      " 16  UrbanRural         899164 non-null  int64  \n",
      " 17  RevLineCr          894636 non-null  object \n",
      " 18  LowDoc             896582 non-null  object \n",
      " 19  ChgOffDate         162699 non-null  object \n",
      " 20  DisbursementDate   896796 non-null  object \n",
      " 21  DisbursementGross  899164 non-null  object \n",
      " 22  BalanceGross       899164 non-null  object \n",
      " 23  MIS_Status         897167 non-null  object \n",
      " 24  ChgOffPrinGr       899164 non-null  object \n",
      " 25  GrAppv             899164 non-null  object \n",
      " 26  SBA_Appv           899164 non-null  object \n",
      "dtypes: float64(1), int64(9), object(17)\n",
      "memory usage: 185.2+ MB\n"
     ]
    }
   ],
   "source": [
    "df_raw.info()"
   ]
  },
  {
   "cell_type": "markdown",
   "metadata": {},
   "source": [
    "## Tratamento dos dados"
   ]
  },
  {
   "cell_type": "code",
   "execution_count": 5,
   "metadata": {},
   "outputs": [
    {
     "data": {
      "text/plain": [
       "LoanNr_ChkDgt             0\n",
       "Name                     14\n",
       "City                     30\n",
       "State                    14\n",
       "Zip                       0\n",
       "Bank                   1559\n",
       "BankState              1566\n",
       "NAICS                     0\n",
       "ApprovalDate              0\n",
       "ApprovalFY                0\n",
       "Term                      0\n",
       "NoEmp                     0\n",
       "NewExist                136\n",
       "CreateJob                 0\n",
       "RetainedJob               0\n",
       "FranchiseCode             0\n",
       "UrbanRural                0\n",
       "RevLineCr              4528\n",
       "LowDoc                 2582\n",
       "ChgOffDate           736465\n",
       "DisbursementDate       2368\n",
       "DisbursementGross         0\n",
       "BalanceGross              0\n",
       "MIS_Status             1997\n",
       "ChgOffPrinGr              0\n",
       "GrAppv                    0\n",
       "SBA_Appv                  0\n",
       "dtype: int64"
      ]
     },
     "execution_count": 5,
     "metadata": {},
     "output_type": "execute_result"
    }
   ],
   "source": [
    "df_raw.isna().sum()"
   ]
  },
  {
   "cell_type": "code",
   "execution_count": 6,
   "metadata": {},
   "outputs": [],
   "source": [
    "df_raw.dropna(subset=[\"Name\", \"City\", \"State\", \"Bank\", \"BankState\", \"NewExist\", \"RevLineCr\", \"LowDoc\", \"DisbursementDate\", \"MIS_Status\"], inplace=True)"
   ]
  },
  {
   "cell_type": "code",
   "execution_count": 7,
   "metadata": {},
   "outputs": [],
   "source": [
    "## drop columns:\n",
    "df_raw.drop(columns=[\"CreateJob\", \"RetainedJob\", \"FranchiseCode\", \"Zip\", \"BankState\", \"LoanNr_ChkDgt\"], inplace=True)\n",
    "\n",
    "#  \"ApprovalDate\", \"ApprovalFY\", \"Term\", \"NoEmp\", \"DisbursementGross\", \"BalanceGross\", \"GrAppv\", \"SBA_Appv\", \"NAICS\", \"ApprovalDate\", \"ChgOffDate\", \"DisbursementDate\"]"
   ]
  },
  {
   "cell_type": "code",
   "execution_count": 8,
   "metadata": {},
   "outputs": [
    {
     "data": {
      "text/plain": [
       "Name                      0\n",
       "City                      0\n",
       "State                     0\n",
       "Bank                      0\n",
       "NAICS                     0\n",
       "ApprovalDate              0\n",
       "ApprovalFY                0\n",
       "Term                      0\n",
       "NoEmp                     0\n",
       "NewExist                  0\n",
       "UrbanRural                0\n",
       "RevLineCr                 0\n",
       "LowDoc                    0\n",
       "ChgOffDate           725369\n",
       "DisbursementDate          0\n",
       "DisbursementGross         0\n",
       "BalanceGross              0\n",
       "MIS_Status                0\n",
       "ChgOffPrinGr              0\n",
       "GrAppv                    0\n",
       "SBA_Appv                  0\n",
       "dtype: int64"
      ]
     },
     "execution_count": 8,
     "metadata": {},
     "output_type": "execute_result"
    }
   ],
   "source": [
    "df_raw.isna().sum()"
   ]
  },
  {
   "cell_type": "code",
   "execution_count": 9,
   "metadata": {},
   "outputs": [
    {
     "data": {
      "text/plain": [
       "Index(['Name', 'City', 'State', 'Bank', 'NAICS', 'ApprovalDate', 'ApprovalFY',\n",
       "       'Term', 'NoEmp', 'NewExist', 'UrbanRural', 'RevLineCr', 'LowDoc',\n",
       "       'ChgOffDate', 'DisbursementDate', 'DisbursementGross', 'BalanceGross',\n",
       "       'MIS_Status', 'ChgOffPrinGr', 'GrAppv', 'SBA_Appv'],\n",
       "      dtype='object')"
      ]
     },
     "execution_count": 9,
     "metadata": {},
     "output_type": "execute_result"
    }
   ],
   "source": [
    "df_raw.columns"
   ]
  },
  {
   "cell_type": "code",
   "execution_count": 10,
   "metadata": {},
   "outputs": [],
   "source": [
    "money_type_columns = [\"DisbursementGross\", \"BalanceGross\", \"ChgOffPrinGr\", \"GrAppv\", \"SBA_Appv\"]\n",
    "for col in money_type_columns:\n",
    "    df_raw[col] = df_raw[col].apply(lambda x: x.replace(\"$\", \"\").replace(\",\", \"\")).astype(float)"
   ]
  },
  {
   "cell_type": "code",
   "execution_count": 11,
   "metadata": {},
   "outputs": [],
   "source": [
    "df_raw[\"ApprovalDate\"] = pd.to_datetime(df_raw[\"ApprovalDate\"])\n",
    "df_raw[\"DisbursementDate\"] = pd.to_datetime(df_raw[\"DisbursementDate\"])"
   ]
  },
  {
   "cell_type": "code",
   "execution_count": 12,
   "metadata": {},
   "outputs": [],
   "source": [
    "df_raw = df_raw[df_raw[\"LowDoc\"].isin((\"Y\", \"N\"))]\n",
    "df_raw = df_raw[df_raw[\"RevLineCr\"].isin((\"Y\", \"N\"))]"
   ]
  },
  {
   "cell_type": "code",
   "execution_count": 13,
   "metadata": {},
   "outputs": [],
   "source": [
    "df_raw[\"ApprovalFY\"].replace(\"1976A\", 1976, inplace=True)\n",
    "df_raw[\"ApprovalFY\"] = df_raw[\"ApprovalFY\"].astype(int)"
   ]
  },
  {
   "cell_type": "code",
   "execution_count": 14,
   "metadata": {},
   "outputs": [],
   "source": [
    "df_raw[\"NewExist\"] = df_raw[\"NewExist\"].astype(int)"
   ]
  },
  {
   "cell_type": "markdown",
   "metadata": {},
   "source": [
    "## Variáveis Qualitativas // Categorical\n",
    "\n",
    "| Coluna            | Tipo da variável                   |                                           Descrição |\n",
    "| :---------------- | :--------------------------------- | --------------------------------------------------: |\n",
    "| Name              | Qualitativa Nominal                |                                       Borrower name |\n",
    "| City              | Qualitativa Nominal                |                                       Borrower city |\n",
    "| State             | Qualitativa Nominal                |                                      Borrower state |\n",
    "| Bank              | Qualitativa Nominal                |                                           Bank name |\n",
    "| NAICS             | Qualitativa Ordinal                |  North American industry classification system code |\n",
    "| ApprovalDate      | Qualitativa Ordinal                |                          Date SBA commitment issued |\n",
    "| NewExist          | Qualitativa Nominal                |             1 = Existing business, 2 = New business |\n",
    "| UrbanRural        | Qualitativa Nominal                |                 1 = Urban, 2 = rural, 0 = undefined |\n",
    "| RevLineCr         | Qualitativa Nominal                |           Revolving line of credit: Y = Yes, N = No |\n",
    "| LowDoc            | Qualitativa Nominal                |                LowDoc Loan Program: Y = Yes, N = No |\n",
    "| ChgOffDate        | Qualitativa Ordinal                |   The date when a loan is declared to be in default |\n",
    "| MIS_Status        | Qualitativa Nominal                | Loan status charged off = CHGOFF, Paid in full =PIF |\n",
    "| DisbursementDate  | Qualitativa Ordinal                |                                   Disbursement date |"
   ]
  },
  {
   "cell_type": "code",
   "execution_count": 15,
   "metadata": {},
   "outputs": [
    {
     "data": {
      "text/plain": [
       "<AxesSubplot:title={'center':'Top 10 cities with more loans'}, xlabel='City'>"
      ]
     },
     "execution_count": 15,
     "metadata": {},
     "output_type": "execute_result"
    },
    {
     "data": {
      "image/png": "[encoded data removed]",
      "text/plain": [
       "<Figure size 720x360 with 1 Axes>"
      ]
     },
     "metadata": {
      "needs_background": "light"
     },
     "output_type": "display_data"
    }
   ],
   "source": [
    "# groupby values more frequent grouped by 'city'\n",
    "city_group = df_raw.groupby(\"City\").size().sort_values(ascending=False)\n",
    "\n",
    "#plot an bar chart\n",
    "city_group.head(10).plot(kind=\"bar\", figsize=(10, 5), title=\"Top 10 cities with more loans\")"
   ]
  },
  {
   "cell_type": "code",
   "execution_count": 16,
   "metadata": {},
   "outputs": [
    {
     "data": {
      "text/plain": [
       "<AxesSubplot:xlabel='City'>"
      ]
     },
     "execution_count": 16,
     "metadata": {},
     "output_type": "execute_result"
    },
    {
     "data": {
      "image/png": "[encoded data removed]",
      "text/plain": [
       "<Figure size 720x360 with 1 Axes>"
      ]
     },
     "metadata": {
      "needs_background": "light"
     },
     "output_type": "display_data"
    }
   ],
   "source": [
    "# plot a mean of loan amount by city\n",
    "city_group = df_raw.groupby(\"City\")[\"DisbursementGross\"].mean().sort_values(ascending=False)\n",
    "city_group.head(10).plot(kind=\"bar\", figsize=(10, 5), title=\"\")"
   ]
  },
  {
   "cell_type": "code",
   "execution_count": 17,
   "metadata": {},
   "outputs": [
    {
     "data": {
      "image/png": "[encoded data removed]",
      "text/plain": [
       "<Figure size 1080x720 with 6 Axes>"
      ]
     },
     "metadata": {
      "needs_background": "light"
     },
     "output_type": "display_data"
    }
   ],
   "source": [
    "categorical_columns = [\"State\", \"RevLineCr\", \"LowDoc\", \"NewExist\", \"MIS_Status\"]\n",
    "\n",
    "fig, axs = plt.subplots(3, 2, figsize=(15, 10))\n",
    "\n",
    "for col, ax in zip(categorical_columns, axs.flatten()):\n",
    "    # print(col, ax)\n",
    "    # plt.\n",
    "    df_raw[col].value_counts().plot(kind=\"bar\", title=col, ax=ax)\n",
    "    # df_tmp = df_raw[col].value_counts().reset_index()\n",
    "    # ax.bar(x=df_tmp[\"index\"], height=df_tmp[col])\n",
    "    # print(df_raw[col].value_counts())\n",
    "    plt.xticks(rotation = 45)\n",
    "plt.tight_layout()\n"
   ]
  },
  {
   "cell_type": "markdown",
   "metadata": {},
   "source": [
    "## Variáveis Quantitativas"
   ]
  },
  {
   "cell_type": "markdown",
   "metadata": {},
   "source": [
    "| Coluna            | Tipo da variável                   |                                           Descrição |\n",
    "| :---------------- | :--------------------------------- | --------------------------------------------------: |\n",
    "| GrAppv            | Quantitativa Quantitativa Contínua |               Gross amount of loan approved by bank |\n",
    "| DisbursementGross | Quantitativa Contínua              |                                    Amount disbursed |\n",
    "| BalanceGross      | Quantitativa Contínua              |                            Gross amount outstanding |\n",
    "| ApprovalFY        | Quantitativa Discreta              |                           Fiscal year of commitment |\n",
    "| Term              | Quantitativa Discreta              |                                 Loan term in months |\n",
    "| NoEmp             | Quantitativa Discreta              |                        Number of business employees |\n",
    "| ChgOffPrinGr      | Quantitativa Quantitativa Contínua |                                  Charged-off amount |\n",
    "| SBA_Appv          | Quantitativa Quantitativa Contínua |            SBA’s guaranteed amount of approved loan |"
   ]
  },
  {
   "cell_type": "markdown",
   "metadata": {},
   "source": [
    "### GrAppv"
   ]
  },
  {
   "cell_type": "code",
   "execution_count": 18,
   "metadata": {},
   "outputs": [
    {
     "data": {
      "text/plain": [
       "count    6.111400e+05\n",
       "mean     1.717147e+05\n",
       "std      2.578551e+05\n",
       "min      1.000000e+03\n",
       "25%      3.000000e+04\n",
       "50%      7.500000e+04\n",
       "75%      2.000000e+05\n",
       "max      5.000000e+06\n",
       "Name: GrAppv, dtype: float64"
      ]
     },
     "execution_count": 18,
     "metadata": {},
     "output_type": "execute_result"
    }
   ],
   "source": [
    "df_raw[\"GrAppv\"].describe()"
   ]
  },
  {
   "cell_type": "code",
   "execution_count": 19,
   "metadata": {},
   "outputs": [
    {
     "data": {
      "image/png": "[encoded data removed]",
      "text/plain": [
       "<Figure size 720x360 with 1 Axes>"
      ]
     },
     "metadata": {
      "needs_background": "light"
     },
     "output_type": "display_data"
    }
   ],
   "source": [
    "# boxplot the DisbursementGross column\n",
    "GrAppv = df_raw[\"GrAppv\"]\n",
    "boxplot = GrAppv.plot(kind=\"box\", figsize=(10, 5))"
   ]
  },
  {
   "cell_type": "code",
   "execution_count": 20,
   "metadata": {},
   "outputs": [],
   "source": [
    "def interquartile(column):\n",
    "    q1 = column.quantile(0.25)\n",
    "    q3 = column.quantile(0.75) \n",
    "    iqr = q3 - q1\n",
    "    return (q3 + 1.5 * iqr)\n",
    "\n"
   ]
  },
  {
   "cell_type": "code",
   "execution_count": 21,
   "metadata": {},
   "outputs": [
    {
     "name": "stdout",
     "output_type": "stream",
     "text": [
      "455000.0\n"
     ]
    }
   ],
   "source": [
    "linha_de_corte = interquartile(GrAppv)\n",
    "print(linha_de_corte)\n"
   ]
  },
  {
   "cell_type": "code",
   "execution_count": 22,
   "metadata": {},
   "outputs": [
    {
     "data": {
      "text/plain": [
       "count    550750.000000\n",
       "mean     103667.745589\n",
       "std      103750.939137\n",
       "min        1000.000000\n",
       "25%       25200.000000\n",
       "50%       60000.000000\n",
       "75%      150000.000000\n",
       "max      454900.000000\n",
       "Name: GrAppv, dtype: float64"
      ]
     },
     "execution_count": 22,
     "metadata": {},
     "output_type": "execute_result"
    }
   ],
   "source": [
    "Dividas_ate_linhadecorte = GrAppv[GrAppv < linha_de_corte]\n",
    "Dividas_ate_linhadecorte.describe()"
   ]
  },
  {
   "cell_type": "code",
   "execution_count": 23,
   "metadata": {},
   "outputs": [
    {
     "data": {
      "text/plain": [
       "count    6.013700e+04\n",
       "mean     7.937141e+05\n",
       "std      3.840405e+05\n",
       "min      4.550440e+05\n",
       "25%      5.380000e+05\n",
       "50%      6.900000e+05\n",
       "75%      9.330000e+05\n",
       "max      5.000000e+06\n",
       "Name: GrAppv, dtype: float64"
      ]
     },
     "execution_count": 23,
     "metadata": {},
     "output_type": "execute_result"
    }
   ],
   "source": [
    "Dividas_apos_linhadecorte = GrAppv[GrAppv > linha_de_corte]\n",
    "Dividas_apos_linhadecorte.describe()"
   ]
  },
  {
   "cell_type": "code",
   "execution_count": 24,
   "metadata": {},
   "outputs": [
    {
     "data": {
      "image/png": "[encoded data removed]",
      "text/plain": [
       "<Figure size 720x360 with 1 Axes>"
      ]
     },
     "metadata": {
      "needs_background": "light"
     },
     "output_type": "display_data"
    }
   ],
   "source": [
    "## Plot two histograms, one with linha_de_corte and other without\n",
    "plot_1 = GrAppv[GrAppv < linha_de_corte].hist(bins=10, figsize=(10, 5), label=\"Sem linha_de_corte\")\n",
    "# ylabel(\"Frequência\")\n",
    "# xlabel(\"Crédito concedido\")"
   ]
  },
  {
   "cell_type": "code",
   "execution_count": 25,
   "metadata": {},
   "outputs": [
    {
     "data": {
      "image/png": "[encoded data removed]",
      "text/plain": [
       "<Figure size 720x360 with 1 Axes>"
      ]
     },
     "metadata": {
      "needs_background": "light"
     },
     "output_type": "display_data"
    }
   ],
   "source": [
    "# histogram the GrAppv column filtering by GrAppv \n",
    "GrAppvPlot = GrAppv[GrAppv > linha_de_corte].hist(bins=10, figsize=(10, 5))"
   ]
  },
  {
   "cell_type": "code",
   "execution_count": 26,
   "metadata": {},
   "outputs": [],
   "source": [
    "GrApvEixoY = GrAppv.value_counts()"
   ]
  },
  {
   "cell_type": "code",
   "execution_count": 27,
   "metadata": {},
   "outputs": [
    {
     "data": {
      "text/html": [
       "<div>\n",
       "<style scoped>\n",
       "    .dataframe tbody tr th:only-of-type {\n",
       "        vertical-align: middle;\n",
       "    }\n",
       "\n",
       "    .dataframe tbody tr th {\n",
       "        vertical-align: top;\n",
       "    }\n",
       "\n",
       "    .dataframe thead th {\n",
       "        text-align: right;\n",
       "    }\n",
       "</style>\n",
       "<table border=\"1\" class=\"dataframe\">\n",
       "  <thead>\n",
       "    <tr style=\"text-align: right;\">\n",
       "      <th></th>\n",
       "      <th>Valor</th>\n",
       "      <th>Categoria</th>\n",
       "    </tr>\n",
       "  </thead>\n",
       "  <tbody>\n",
       "    <tr>\n",
       "      <th>0</th>\n",
       "      <td>60000.0</td>\n",
       "      <td>Menor</td>\n",
       "    </tr>\n",
       "    <tr>\n",
       "      <th>1</th>\n",
       "      <td>40000.0</td>\n",
       "      <td>Menor</td>\n",
       "    </tr>\n",
       "    <tr>\n",
       "      <th>2</th>\n",
       "      <td>287000.0</td>\n",
       "      <td>Menor</td>\n",
       "    </tr>\n",
       "    <tr>\n",
       "      <th>3</th>\n",
       "      <td>35000.0</td>\n",
       "      <td>Menor</td>\n",
       "    </tr>\n",
       "    <tr>\n",
       "      <th>4</th>\n",
       "      <td>229000.0</td>\n",
       "      <td>Menor</td>\n",
       "    </tr>\n",
       "    <tr>\n",
       "      <th>5</th>\n",
       "      <td>517000.0</td>\n",
       "      <td>Maior</td>\n",
       "    </tr>\n",
       "    <tr>\n",
       "      <th>6</th>\n",
       "      <td>600000.0</td>\n",
       "      <td>Maior</td>\n",
       "    </tr>\n",
       "    <tr>\n",
       "      <th>7</th>\n",
       "      <td>45000.0</td>\n",
       "      <td>Menor</td>\n",
       "    </tr>\n",
       "    <tr>\n",
       "      <th>8</th>\n",
       "      <td>305000.0</td>\n",
       "      <td>Menor</td>\n",
       "    </tr>\n",
       "    <tr>\n",
       "      <th>9</th>\n",
       "      <td>70000.0</td>\n",
       "      <td>Menor</td>\n",
       "    </tr>\n",
       "  </tbody>\n",
       "</table>\n",
       "</div>"
      ],
      "text/plain": [
       "      Valor Categoria\n",
       "0   60000.0     Menor\n",
       "1   40000.0     Menor\n",
       "2  287000.0     Menor\n",
       "3   35000.0     Menor\n",
       "4  229000.0     Menor\n",
       "5  517000.0     Maior\n",
       "6  600000.0     Maior\n",
       "7   45000.0     Menor\n",
       "8  305000.0     Menor\n",
       "9   70000.0     Menor"
      ]
     },
     "execution_count": 27,
     "metadata": {},
     "output_type": "execute_result"
    }
   ],
   "source": [
    "#create a dataframe with two columns, GrAppv and a new one called Categoria\n",
    "teste = pd.DataFrame({\"Valor\": GrAppv, \"Categoria\": GrAppv.apply(lambda x: \"Menor\" if x < linha_de_corte else \"Maior\")})\n",
    "teste.head(10)"
   ]
  },
  {
   "cell_type": "markdown",
   "metadata": {},
   "source": [
    "#### Boxploting the outliers that were minor than linha_de_corte"
   ]
  },
  {
   "cell_type": "code",
   "execution_count": 28,
   "metadata": {},
   "outputs": [
    {
     "data": {
      "image/png": "[encoded data removed]",
      "text/plain": [
       "<Figure size 720x360 with 1 Axes>"
      ]
     },
     "metadata": {
      "needs_background": "light"
     },
     "output_type": "display_data"
    }
   ],
   "source": [
    "boxplot = Dividas_ate_linhadecorte.plot(kind=\"box\", figsize=(10, 5))"
   ]
  },
  {
   "cell_type": "code",
   "execution_count": 29,
   "metadata": {},
   "outputs": [
    {
     "data": {
      "image/png": "[encoded data removed]",
      "text/plain": [
       "<Figure size 720x360 with 1 Axes>"
      ]
     },
     "metadata": {
      "needs_background": "light"
     },
     "output_type": "display_data"
    }
   ],
   "source": [
    "boxplot2 = Dividas_apos_linhadecorte.plot(kind=\"box\", figsize=(10, 5))"
   ]
  },
  {
   "cell_type": "markdown",
   "metadata": {},
   "source": [
    "## DisbursementGross"
   ]
  },
  {
   "cell_type": "code",
   "execution_count": 30,
   "metadata": {},
   "outputs": [
    {
     "data": {
      "text/plain": [
       "count    6.111400e+05\n",
       "mean     1.846855e+05\n",
       "std      2.671621e+05\n",
       "min      4.000000e+03\n",
       "25%      4.000000e+04\n",
       "50%      9.185050e+04\n",
       "75%      2.180000e+05\n",
       "max      1.144632e+07\n",
       "Name: DisbursementGross, dtype: float64"
      ]
     },
     "execution_count": 30,
     "metadata": {},
     "output_type": "execute_result"
    }
   ],
   "source": [
    "df_raw[\"DisbursementGross\"].describe()"
   ]
  },
  {
   "cell_type": "code",
   "execution_count": 31,
   "metadata": {},
   "outputs": [
    {
     "data": {
      "image/png": "[encoded data removed]",
      "text/plain": [
       "<Figure size 720x360 with 1 Axes>"
      ]
     },
     "metadata": {
      "needs_background": "light"
     },
     "output_type": "display_data"
    }
   ],
   "source": [
    "DisbursementGross = df_raw[\"DisbursementGross\"]\n",
    "boxplot = DisbursementGross.plot(kind=\"box\", figsize=(10, 5))"
   ]
  },
  {
   "cell_type": "markdown",
   "metadata": {},
   "source": [
    "## Balance Gross"
   ]
  },
  {
   "cell_type": "code",
   "execution_count": 32,
   "metadata": {},
   "outputs": [],
   "source": [
    "BalanceGross = df_raw[\"BalanceGross\"]"
   ]
  },
  {
   "cell_type": "code",
   "execution_count": 44,
   "metadata": {},
   "outputs": [
    {
     "data": {
      "text/plain": [
       "<AxesSubplot:>"
      ]
     },
     "execution_count": 44,
     "metadata": {},
     "output_type": "execute_result"
    },
    {
     "data": {
      "image/png": "[encoded data removed]",
      "text/plain": [
       "<Figure size 720x360 with 1 Axes>"
      ]
     },
     "metadata": {
      "needs_background": "light"
     },
     "output_type": "display_data"
    }
   ],
   "source": [
    "BalanceGross.plot(kind=\"box\", figsize=(10, 5))"
   ]
  },
  {
   "cell_type": "code",
   "execution_count": 41,
   "metadata": {},
   "outputs": [
    {
     "data": {
      "text/html": [
       "<div>\n",
       "<style scoped>\n",
       "    .dataframe tbody tr th:only-of-type {\n",
       "        vertical-align: middle;\n",
       "    }\n",
       "\n",
       "    .dataframe tbody tr th {\n",
       "        vertical-align: top;\n",
       "    }\n",
       "\n",
       "    .dataframe thead th {\n",
       "        text-align: right;\n",
       "    }\n",
       "</style>\n",
       "<table border=\"1\" class=\"dataframe\">\n",
       "  <thead>\n",
       "    <tr style=\"text-align: right;\">\n",
       "      <th></th>\n",
       "      <th>ApprovalFY</th>\n",
       "      <th>Term</th>\n",
       "      <th>NoEmp</th>\n",
       "      <th>DisbursementGross</th>\n",
       "      <th>BalanceGross</th>\n",
       "      <th>ChgOffPrinGr</th>\n",
       "      <th>GrAppv</th>\n",
       "      <th>SBA_Appv</th>\n",
       "    </tr>\n",
       "  </thead>\n",
       "  <tbody>\n",
       "    <tr>\n",
       "      <th>count</th>\n",
       "      <td>611140.000000</td>\n",
       "      <td>611140.000000</td>\n",
       "      <td>611140.000000</td>\n",
       "      <td>6.111400e+05</td>\n",
       "      <td>611140.000000</td>\n",
       "      <td>6.111400e+05</td>\n",
       "      <td>6.111400e+05</td>\n",
       "      <td>6.111400e+05</td>\n",
       "    </tr>\n",
       "    <tr>\n",
       "      <th>mean</th>\n",
       "      <td>2000.672641</td>\n",
       "      <td>105.200825</td>\n",
       "      <td>11.993357</td>\n",
       "      <td>1.846855e+05</td>\n",
       "      <td>3.298329</td>\n",
       "      <td>1.175844e+04</td>\n",
       "      <td>1.717147e+05</td>\n",
       "      <td>1.343582e+05</td>\n",
       "    </tr>\n",
       "    <tr>\n",
       "      <th>std</th>\n",
       "      <td>6.668583</td>\n",
       "      <td>75.587488</td>\n",
       "      <td>75.656806</td>\n",
       "      <td>2.671621e+05</td>\n",
       "      <td>1662.402519</td>\n",
       "      <td>5.547205e+04</td>\n",
       "      <td>2.578551e+05</td>\n",
       "      <td>2.107834e+05</td>\n",
       "    </tr>\n",
       "    <tr>\n",
       "      <th>min</th>\n",
       "      <td>1968.000000</td>\n",
       "      <td>0.000000</td>\n",
       "      <td>0.000000</td>\n",
       "      <td>4.000000e+03</td>\n",
       "      <td>0.000000</td>\n",
       "      <td>0.000000e+00</td>\n",
       "      <td>1.000000e+03</td>\n",
       "      <td>5.000000e+02</td>\n",
       "    </tr>\n",
       "    <tr>\n",
       "      <th>25%</th>\n",
       "      <td>1995.000000</td>\n",
       "      <td>60.000000</td>\n",
       "      <td>2.000000</td>\n",
       "      <td>4.000000e+04</td>\n",
       "      <td>0.000000</td>\n",
       "      <td>0.000000e+00</td>\n",
       "      <td>3.000000e+04</td>\n",
       "      <td>1.750000e+04</td>\n",
       "    </tr>\n",
       "    <tr>\n",
       "      <th>50%</th>\n",
       "      <td>2002.000000</td>\n",
       "      <td>84.000000</td>\n",
       "      <td>4.000000</td>\n",
       "      <td>9.185050e+04</td>\n",
       "      <td>0.000000</td>\n",
       "      <td>0.000000e+00</td>\n",
       "      <td>7.500000e+04</td>\n",
       "      <td>5.000000e+04</td>\n",
       "    </tr>\n",
       "    <tr>\n",
       "      <th>75%</th>\n",
       "      <td>2006.000000</td>\n",
       "      <td>120.000000</td>\n",
       "      <td>11.000000</td>\n",
       "      <td>2.180000e+05</td>\n",
       "      <td>0.000000</td>\n",
       "      <td>0.000000e+00</td>\n",
       "      <td>2.000000e+05</td>\n",
       "      <td>1.572500e+05</td>\n",
       "    </tr>\n",
       "    <tr>\n",
       "      <th>max</th>\n",
       "      <td>2014.000000</td>\n",
       "      <td>527.000000</td>\n",
       "      <td>9999.000000</td>\n",
       "      <td>1.144632e+07</td>\n",
       "      <td>996262.000000</td>\n",
       "      <td>3.512596e+06</td>\n",
       "      <td>5.000000e+06</td>\n",
       "      <td>4.500000e+06</td>\n",
       "    </tr>\n",
       "  </tbody>\n",
       "</table>\n",
       "</div>"
      ],
      "text/plain": [
       "          ApprovalFY           Term          NoEmp  DisbursementGross  \\\n",
       "count  611140.000000  611140.000000  611140.000000       6.111400e+05   \n",
       "mean     2000.672641     105.200825      11.993357       1.846855e+05   \n",
       "std         6.668583      75.587488      75.656806       2.671621e+05   \n",
       "min      1968.000000       0.000000       0.000000       4.000000e+03   \n",
       "25%      1995.000000      60.000000       2.000000       4.000000e+04   \n",
       "50%      2002.000000      84.000000       4.000000       9.185050e+04   \n",
       "75%      2006.000000     120.000000      11.000000       2.180000e+05   \n",
       "max      2014.000000     527.000000    9999.000000       1.144632e+07   \n",
       "\n",
       "        BalanceGross  ChgOffPrinGr        GrAppv      SBA_Appv  \n",
       "count  611140.000000  6.111400e+05  6.111400e+05  6.111400e+05  \n",
       "mean        3.298329  1.175844e+04  1.717147e+05  1.343582e+05  \n",
       "std      1662.402519  5.547205e+04  2.578551e+05  2.107834e+05  \n",
       "min         0.000000  0.000000e+00  1.000000e+03  5.000000e+02  \n",
       "25%         0.000000  0.000000e+00  3.000000e+04  1.750000e+04  \n",
       "50%         0.000000  0.000000e+00  7.500000e+04  5.000000e+04  \n",
       "75%         0.000000  0.000000e+00  2.000000e+05  1.572500e+05  \n",
       "max    996262.000000  3.512596e+06  5.000000e+06  4.500000e+06  "
      ]
     },
     "metadata": {},
     "output_type": "display_data"
    }
   ],
   "source": [
    "# Create a function that appends to the new dataset all the items in describe() for each column in df_raw \n",
    "def describe_columns(df, colunas):\n",
    "    df_describe = pd.DataFrame()\n",
    "    for col in df.columns:\n",
    "        if col in colunas:\n",
    "            df_describe[col] = df[col].describe()\n",
    "    return df_describe\n",
    "\n",
    "cols = [\"GrAppv\", \"SBA_Appv\", \"DisbursementGross\", \"BalanceGross\", \"ChgOffPrinGr\", \"ApprovalFY\", \"Term\", \"NoEmp\"]\n",
    "df_medidas_de_resumo = describe_columns(df_raw, cols)\n",
    "display(df_medidas_de_resumo)"
   ]
  }
 ],
 "metadata": {
  "kernelspec": {
   "display_name": "Python 3.9.13 64-bit",
   "language": "python",
   "name": "python3"
  },
  "language_info": {
   "codemirror_mode": {
    "name": "ipython",
    "version": 3
   },
   "file_extension": ".py",
   "mimetype": "text/x-python",
   "name": "python",
   "nbconvert_exporter": "python",
   "pygments_lexer": "ipython3",
   "version": "3.9.13"
  },
  "orig_nbformat": 4,
  "vscode": {
   "interpreter": {
    "hash": "8e284ee3255a07ad8bf76694974743c4c81cb57e7c969474d752d949b11d721e"
   }
  }
 },
 "nbformat": 4,
 "nbformat_minor": 2
}
