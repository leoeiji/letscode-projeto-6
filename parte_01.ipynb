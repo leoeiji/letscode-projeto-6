{
 "cells": [
  {
   "cell_type": "markdown",
   "metadata": {},
   "source": [
    "# Projeto 06 - Safra 😎"
   ]
  },
  {
   "cell_type": "markdown",
   "metadata": {},
   "source": [
    "| Coluna            | Tipo da variável      |                                           Descrição | Utilizada |\n",
    "| :---------------- | :-------------------- | --------------------------------------------------: | :-------: |\n",
    "| LoanNr_ChkDgt     | Quantitativa Discreta |                              Identifier Primary key |    ❌     |\n",
    "| Name              | Qualitativa Nominal   |                                       Borrower name |    ✅     |\n",
    "| City              | Qualitativa Nominal   |                                       Borrower city |    ✅     |\n",
    "| State             | Qualitativa Nominal   |                                      Borrower state |    ✅     |\n",
    "| Zip               | Qualitativa Nominal   |                                   Borrower zip code |    ❌     |\n",
    "| Bank              | Qualitativa Nominal   |                                           Bank name |    ✅     |\n",
    "| BankState         | Qualitativa Nominal   |                                          Bank state |    ❌     |\n",
    "| NAICS             | Qualitativa Ordinal   |  North American industry classification system code |    ✅     |\n",
    "| ApprovalDate      | Qualitativa Ordinal   |                          Date SBA commitment issued |    ✅     |\n",
    "| ApprovalFY        | Quantitativa Discreta |                           Fiscal year of commitment |    ✅     |\n",
    "| Term              | Quantitativa Discreta |                                 Loan term in months |    ✅     |\n",
    "| NoEmp             | Quantitativa Discreta |                        Number of business employees |    ✅     |\n",
    "| NewExist          | Qualitativa Nominal   |             1 = Existing business, 2 = New business |    ✅     |\n",
    "| CreateJob         | Quantitativa Discreta |                              Number of jobs created |    ❌     |\n",
    "| RetainedJob       | Quantitativa Discreta |                             Number of jobs retained |    ❌     |\n",
    "| FranchiseCode     | Qualitativa Nominal   |     Franchise code, (00000 or 00001) = No franchise |    ❌     |\n",
    "| UrbanRural        | Qualitativa Nominal   |                 1 = Urban, 2 = rural, 0 = undefined |    ✅     |\n",
    "| RevLineCr         | Qualitativa Nominal   |           Revolving line of credit: Y = Yes, N = No |    ✅     |\n",
    "| LowDoc            | Qualitativa Nominal   |                LowDoc Loan Program: Y = Yes, N = No |    ✅     |\n",
    "| ChgOffDate        | Qualitativa Ordinal   |   The date when a loan is declared to be in default |    ✅     |\n",
    "| DisbursementDate  | Qualitativa Ordinal   |                                   Disbursement date |    ✅     |\n",
    "| DisbursementGross | Quantitativa Contínua |                                    Amount disbursed |    ✅     |\n",
    "| BalanceGross      | Quantitativa Contínua |                            Gross amount outstanding |    ✅     |\n",
    "| MIS_Status        | Qualitativa Nominal   | Loan status charged off = CHGOFF, Paid in full =PIF |    ✅     |\n",
    "| ChgOffPrinGr      | Quantitativa Contínua |                                  Charged-off amount |    ✅     |\n",
    "| GrAppv            | Quantitativa Contínua |               Gross amount of loan approved by bank |    ✅     |\n",
    "| SBA_Appv          | Quantitativa Contínua |            SBA’s guaranteed amount of approved loan |    ✅     |\n",
    "\n"
   ]
  },
  {
   "cell_type": "code",
   "execution_count": null,
   "metadata": {},
   "outputs": [],
   "source": [
    "import pandas as pd\n",
    "import numpy as np\n",
    "import matplotlib.pyplot as plt\n",
    "import seaborn as sns\n",
    "import scipy.stats as stats\n",
    "from sklearn.preprocessing import LabelEncoder\n",
    "\n",
    "pd.set_option('display.max_columns', None)"
   ]
  },
  {
   "cell_type": "code",
   "execution_count": null,
   "metadata": {},
   "outputs": [],
   "source": [
    "df_raw = pd.read_csv(\"SBAnational.csv\")\n",
    "df_raw.head()"
   ]
  },
  {
   "cell_type": "code",
   "execution_count": null,
   "metadata": {},
   "outputs": [],
   "source": [
    "df_raw.info()"
   ]
  },
  {
   "cell_type": "markdown",
   "metadata": {},
   "source": [
    "## Tratamento dos dados"
   ]
  },
  {
   "cell_type": "code",
   "execution_count": null,
   "metadata": {},
   "outputs": [],
   "source": [
    "df_raw.isna().sum()"
   ]
  },
  {
   "cell_type": "code",
   "execution_count": null,
   "metadata": {},
   "outputs": [],
   "source": [
    "df_raw.dropna(subset=[\"Name\", \"City\", \"State\", \"Bank\", \"BankState\", \"NewExist\", \"RevLineCr\", \"LowDoc\", \"DisbursementDate\", \"MIS_Status\"], inplace=True)"
   ]
  },
  {
   "cell_type": "code",
   "execution_count": null,
   "metadata": {},
   "outputs": [],
   "source": [
    "## drop columns:\n",
    "df_raw.drop(columns=[\"CreateJob\", \"RetainedJob\", \"FranchiseCode\", \"Zip\", \"BankState\", \"LoanNr_ChkDgt\"], inplace=True)\n",
    "\n",
    "#  \"ApprovalDate\", \"ApprovalFY\", \"Term\", \"NoEmp\", \"DisbursementGross\", \"BalanceGross\", \"GrAppv\", \"SBA_Appv\", \"NAICS\", \"ApprovalDate\", \"ChgOffDate\", \"DisbursementDate\"]"
   ]
  },
  {
   "cell_type": "code",
   "execution_count": null,
   "metadata": {},
   "outputs": [],
   "source": [
    "df_raw.isna().sum()"
   ]
  },
  {
   "cell_type": "code",
   "execution_count": null,
   "metadata": {},
   "outputs": [],
   "source": [
    "df_raw.columns"
   ]
  },
  {
   "cell_type": "code",
   "execution_count": null,
   "metadata": {},
   "outputs": [],
   "source": [
    "money_type_columns = [\"DisbursementGross\", \"BalanceGross\", \"ChgOffPrinGr\", \"GrAppv\", \"SBA_Appv\"]\n",
    "for col in money_type_columns:\n",
    "    df_raw[col] = df_raw[col].apply(lambda x: x.replace(\"$\", \"\").replace(\",\", \"\")).astype(float)"
   ]
  },
  {
   "cell_type": "code",
   "execution_count": null,
   "metadata": {},
   "outputs": [],
   "source": [
    "df_raw[\"ApprovalDate\"] = pd.to_datetime(df_raw[\"ApprovalDate\"])\n",
    "df_raw[\"DisbursementDate\"] = pd.to_datetime(df_raw[\"DisbursementDate\"])"
   ]
  },
  {
   "cell_type": "code",
   "execution_count": null,
   "metadata": {},
   "outputs": [],
   "source": [
    "df_raw = df_raw[df_raw[\"LowDoc\"].isin((\"Y\", \"N\"))]\n",
    "df_raw = df_raw[df_raw[\"RevLineCr\"].isin((\"Y\", \"N\"))]"
   ]
  },
  {
   "cell_type": "code",
   "execution_count": null,
   "metadata": {},
   "outputs": [],
   "source": [
    "df_raw[\"ApprovalFY\"].replace(\"1976A\", 1976, inplace=True)\n",
    "df_raw[\"ApprovalFY\"] = df_raw[\"ApprovalFY\"].astype(int)"
   ]
  },
  {
   "cell_type": "code",
   "execution_count": null,
   "metadata": {},
   "outputs": [],
   "source": [
    "df_raw[\"NewExist\"] = df_raw[\"NewExist\"].astype(int)"
   ]
  },
  {
   "cell_type": "markdown",
   "metadata": {},
   "source": [
    "## Variáveis Qualitativas // Categorical\n",
    "\n",
    "| Coluna            | Tipo da variável                   |                                           Descrição |\n",
    "| :---------------- | :--------------------------------- | --------------------------------------------------: |\n",
    "| Name              | Qualitativa Nominal                |                                       Borrower name |\n",
    "| City              | Qualitativa Nominal                |                                       Borrower city |\n",
    "| State             | Qualitativa Nominal                |                                      Borrower state |\n",
    "| Bank              | Qualitativa Nominal                |                                           Bank name |\n",
    "| NAICS             | Qualitativa Ordinal                |  North American industry classification system code |\n",
    "| ApprovalDate      | Qualitativa Ordinal                |                          Date SBA commitment issued |\n",
    "| NewExist          | Qualitativa Nominal                |             1 = Existing business, 2 = New business |\n",
    "| UrbanRural        | Qualitativa Nominal                |                 1 = Urban, 2 = rural, 0 = undefined |\n",
    "| RevLineCr         | Qualitativa Nominal                |           Revolving line of credit: Y = Yes, N = No |\n",
    "| LowDoc            | Qualitativa Nominal                |                LowDoc Loan Program: Y = Yes, N = No |\n",
    "| ChgOffDate        | Qualitativa Ordinal                |   The date when a loan is declared to be in default |\n",
    "| MIS_Status        | Qualitativa Nominal                | Loan status charged off = CHGOFF, Paid in full =PIF |\n",
    "| DisbursementDate  | Qualitativa Ordinal                |                                   Disbursement date |"
   ]
  },
  {
   "cell_type": "code",
   "execution_count": null,
   "metadata": {},
   "outputs": [],
   "source": [
    "# groupby values more frequent grouped by 'city'\n",
    "city_group = df_raw.groupby(\"City\").size().sort_values(ascending=False)\n",
    "\n",
    "#plot an bar chart\n",
    "city_group.head(10).plot(kind=\"bar\", figsize=(10, 5), title=\"Top 10 cities with more loans\")"
   ]
  },
  {
   "cell_type": "code",
   "execution_count": null,
   "metadata": {},
   "outputs": [],
   "source": [
    "# plot a mean of loan amount by city\n",
    "city_group = df_raw.groupby(\"City\")[\"DisbursementGross\"].mean().sort_values(ascending=False)\n",
    "city_group.head(10).plot(kind=\"bar\", figsize=(10, 5), title=\"\")"
   ]
  },
  {
   "cell_type": "code",
   "execution_count": null,
   "metadata": {},
   "outputs": [],
   "source": [
    "categorical_columns = [\"State\", \"RevLineCr\", \"LowDoc\", \"NewExist\", \"MIS_Status\"]\n",
    "\n",
    "fig, axs = plt.subplots(3, 2, figsize=(15, 10))\n",
    "\n",
    "for col, ax in zip(categorical_columns, axs.flatten()):\n",
    "    # print(col, ax)\n",
    "    # plt.\n",
    "    df_raw[col].value_counts().plot(kind=\"bar\", title=col, ax=ax)\n",
    "    # df_tmp = df_raw[col].value_counts().reset_index()\n",
    "    # ax.bar(x=df_tmp[\"index\"], height=df_tmp[col])\n",
    "    # print(df_raw[col].value_counts())\n",
    "    plt.xticks(rotation = 45)\n",
    "plt.tight_layout()\n"
   ]
  },
  {
   "cell_type": "markdown",
   "metadata": {},
   "source": [
    "## Variáveis Quantitativas"
   ]
  },
  {
   "cell_type": "markdown",
   "metadata": {},
   "source": [
    "| Coluna            | Tipo da variável                   |                                           Descrição |\n",
    "| :---------------- | :--------------------------------- | --------------------------------------------------: |\n",
    "| GrAppv            | Quantitativa Contínua              |               Gross amount of loan approved by bank |\n",
    "| DisbursementGross | Quantitativa Contínua              |                                    Amount disbursed |\n",
    "| BalanceGross      | Quantitativa Contínua              |                            Gross amount outstanding |\n",
    "| ApprovalFY        | Quantitativa Discreta              |                           Fiscal year of commitment |\n",
    "| Term              | Quantitativa Discreta              |                                 Loan term in months |\n",
    "| NoEmp             | Quantitativa Discreta              |                        Number of business employees |\n",
    "| ChgOffPrinGr      | Quantitativa Contínua              |                                  Charged-off amount |\n",
    "| SBA_Appv          | Quantitativa Contínua              |            SBA’s guaranteed amount of approved loan |\n",
    "\n",
    "\n"
   ]
  },
  {
   "cell_type": "markdown",
   "metadata": {},
   "source": [
    "##  Iremos analisar de uma maneira completa as variáveis GrAppv, DisbursementGross, Term, NoEmp"
   ]
  },
  {
   "cell_type": "markdown",
   "metadata": {},
   "source": [
    "| Coluna            | Tipo da variável                   |                                           Descrição |\n",
    "| :---------------- | :--------------------------------- | --------------------------------------------------: |\n",
    "| GrAppv            | Quantitativa Contínua              |               Gross amount of loan approved by bank |\n",
    "| DisbursementGross | Quantitativa Contínua              |                                    Amount disbursed |\n",
    "| Term              | Quantitativa Discreta              |                                 Loan term in months |\n",
    "| NoEmp             | Quantitativa Discreta              |                        Number of business employees |\n"
   ]
  },
  {
   "cell_type": "code",
   "execution_count": null,
   "metadata": {},
   "outputs": [],
   "source": [
    "# Create a function that appends to the new dataset all the items in describe() for each column in df_raw \n",
    "def describe_columns(df, colunas):\n",
    "    df_describe = pd.DataFrame()\n",
    "    for col in df.columns:\n",
    "        if col in colunas:\n",
    "            df_describe[col] = df[col].describe()\n",
    "    return df_describe\n",
    "\n",
    "cols = [\"DisbursementGross\", \"GrAppv\", \"Term\", \"NoEmp\"]\n",
    "df_medidas_de_resumo = describe_columns(df_raw, cols)\n",
    "display(df_medidas_de_resumo[cols])"
   ]
  },
  {
   "cell_type": "markdown",
   "metadata": {},
   "source": [
    "### GrAppv\n",
    "- [X] Medidas de Resumo\n",
    "- [X] Maiores frequências e distribuição\n",
    "- [X] Outliers e dizer a decisão\n",
    "- [X] Gráfico\n"
   ]
  },
  {
   "cell_type": "code",
   "execution_count": null,
   "metadata": {},
   "outputs": [],
   "source": [
    "# Medidas de Resumo\n",
    "\n",
    "print(f'Medidas de resumo\\n{df_raw[\"GrAppv\"].describe()}')\n",
    "print(f'\\nMaiores frequências\\n{df_raw[\"GrAppv\"].value_counts().head(5)}')"
   ]
  },
  {
   "cell_type": "code",
   "execution_count": null,
   "metadata": {},
   "outputs": [],
   "source": [
    "# Boxplot da coluna GrAppv\n",
    "GrAppv = df_raw[\"GrAppv\"]\n",
    "boxplot = GrAppv.plot(kind=\"box\", figsize=(10, 5))"
   ]
  },
  {
   "cell_type": "code",
   "execution_count": null,
   "metadata": {},
   "outputs": [],
   "source": [
    "# Notamos que há vários outliers e criamos uma função que dividirá os valores em 2 grupos; o primeiro até a chamada linha de corte\n",
    "#  e o segundo após a linha de corte (outliers superiores)\n",
    "\n",
    "def interquartile(column):\n",
    "    q1 = column.quantile(0.25)\n",
    "    q3 = column.quantile(0.75) \n",
    "    iqr = q3 - q1\n",
    "    return (q3 + 1.5 * iqr)\n",
    "\n"
   ]
  },
  {
   "cell_type": "code",
   "execution_count": null,
   "metadata": {},
   "outputs": [],
   "source": [
    "linha_de_corte = interquartile(GrAppv)\n",
    "print(linha_de_corte)\n"
   ]
  },
  {
   "cell_type": "code",
   "execution_count": null,
   "metadata": {},
   "outputs": [],
   "source": [
    "Dividas_ate_linhadecorte = GrAppv[GrAppv < linha_de_corte]\n",
    "Dividas_ate_linhadecorte.describe()"
   ]
  },
  {
   "cell_type": "code",
   "execution_count": null,
   "metadata": {},
   "outputs": [],
   "source": [
    "boxplot = Dividas_ate_linhadecorte.plot(kind=\"box\", figsize=(10, 5))"
   ]
  },
  {
   "cell_type": "code",
   "execution_count": null,
   "metadata": {},
   "outputs": [],
   "source": [
    "Dividas_apos_linhadecorte = GrAppv[GrAppv > linha_de_corte]\n",
    "Dividas_apos_linhadecorte.describe()"
   ]
  },
  {
   "cell_type": "code",
   "execution_count": null,
   "metadata": {},
   "outputs": [],
   "source": [
    "boxplot = Dividas_apos_linhadecorte.plot(kind=\"box\", figsize=(10, 5))"
   ]
  },
  {
   "cell_type": "code",
   "execution_count": null,
   "metadata": {},
   "outputs": [],
   "source": [
    "## Plot two histograms, one with linha_de_corte and other without\n",
    "plot_1 = GrAppv[GrAppv < linha_de_corte].hist(bins=15, figsize=(10, 5), label=\"Sem linha_de_corte\")\n",
    "plt.ylabel(\"Frequência\")\n",
    "plt.xlabel(\"Crédito concedido\")\n",
    "plt.title(f'Valores até ${linha_de_corte:.0f}')"
   ]
  },
  {
   "cell_type": "code",
   "execution_count": null,
   "metadata": {},
   "outputs": [],
   "source": [
    "# histogram the GrAppv column filtering by GrAppv \n",
    "GrAppvPlot = GrAppv[GrAppv > linha_de_corte].hist(bins=15, figsize=(10, 5))\n",
    "plt.ylabel(\"Frequência\")\n",
    "plt. xlabel(\"Crédito concedido\")\n",
    "plt.title(f'Valores maiores que ${linha_de_corte:.0f}')"
   ]
  },
  {
   "cell_type": "markdown",
   "metadata": {},
   "source": [
    "### DisbursementGross\n",
    "- [X] Medidas de Resumo\n",
    "- [X] Maiores frequências e distribuição\n",
    "- [X] Outliers e dizer a decisão\n",
    "- [X] Gráfico"
   ]
  },
  {
   "cell_type": "code",
   "execution_count": null,
   "metadata": {},
   "outputs": [],
   "source": [
    "# Medidas de Resumo\n",
    "\n",
    "print(f'Medidas de resumo\\n{df_raw[\"DisbursementGross\"].describe()}')\n",
    "print(f'\\nMaiores frequências\\n{df_raw[\"DisbursementGross\"].value_counts().head(5)}')"
   ]
  },
  {
   "cell_type": "code",
   "execution_count": null,
   "metadata": {},
   "outputs": [],
   "source": [
    "# Boxplot da coluna DisbursementGross\n",
    "DisbursementGross = df_raw[\"DisbursementGross\"]\n",
    "boxplot = DisbursementGross.plot(kind=\"box\", figsize=(10, 5))"
   ]
  },
  {
   "cell_type": "code",
   "execution_count": null,
   "metadata": {},
   "outputs": [],
   "source": [
    "# Notamos que há vários outliers e criamos uma função que dividirá os valores em 2 grupos; o primeiro até a chamada linha de corte\n",
    "#  e o segundo após a linha de corte (outliers superiores)\n",
    "\n",
    "def interquartile(column):\n",
    "    q1 = column.quantile(0.25)\n",
    "    q3 = column.quantile(0.75) \n",
    "    iqr = q3 - q1\n",
    "    return (q3 + 1.5 * iqr)"
   ]
  },
  {
   "cell_type": "code",
   "execution_count": null,
   "metadata": {},
   "outputs": [],
   "source": [
    "linha_de_corte = interquartile(DisbursementGross)\n",
    "print(linha_de_corte)\n"
   ]
  },
  {
   "cell_type": "code",
   "execution_count": null,
   "metadata": {},
   "outputs": [],
   "source": [
    "Dividas_ate_linhadecorte = DisbursementGross[DisbursementGross < linha_de_corte]\n",
    "Dividas_ate_linhadecorte.describe()"
   ]
  },
  {
   "cell_type": "code",
   "execution_count": null,
   "metadata": {},
   "outputs": [],
   "source": [
    "boxplot = Dividas_ate_linhadecorte.plot(kind=\"box\", figsize=(10, 5))"
   ]
  },
  {
   "cell_type": "code",
   "execution_count": null,
   "metadata": {},
   "outputs": [],
   "source": [
    "Dividas_apos_linhadecorte = DisbursementGross[DisbursementGross > linha_de_corte]\n",
    "Dividas_apos_linhadecorte.describe()"
   ]
  },
  {
   "cell_type": "code",
   "execution_count": null,
   "metadata": {},
   "outputs": [],
   "source": [
    "boxplot = Dividas_apos_linhadecorte.plot(kind=\"box\", figsize=(10, 5))"
   ]
  },
  {
   "cell_type": "code",
   "execution_count": null,
   "metadata": {},
   "outputs": [],
   "source": [
    "## Plot two histograms, one with linha_de_corte and other without\n",
    "plot_1 = DisbursementGross[DisbursementGross < linha_de_corte].hist(bins=15, figsize=(10, 5), label=\"Sem linha_de_corte\")\n",
    "plt.ylabel(\"Frequência\")\n",
    "plt.xlabel(\"Crédito concedido\")\n",
    "plt.title(f'Valores até ${linha_de_corte:.0f}')"
   ]
  },
  {
   "cell_type": "code",
   "execution_count": null,
   "metadata": {},
   "outputs": [],
   "source": [
    "# histogram the DisbursementGross column filtering by DisbursementGross \n",
    "DisbursementGrossPlot = DisbursementGross[DisbursementGross > linha_de_corte].hist(bins=15, figsize=(10, 5))\n",
    "plt.ylabel(\"Frequência\")\n",
    "plt.xlabel(\"Crédito concedido\")\n",
    "plt.title(f'Valores maiores que ${linha_de_corte:.0f}')"
   ]
  },
  {
   "cell_type": "markdown",
   "metadata": {},
   "source": [
    "### Term\n",
    "- [X] Medidas de Resumo\n",
    "- [X] Maiores frequências e distribuição\n",
    "- [X] Outliers e dizer a decisão\n",
    "- [X] Gráfico"
   ]
  },
  {
   "cell_type": "code",
   "execution_count": null,
   "metadata": {},
   "outputs": [],
   "source": [
    "# Medidas de Resumo\n",
    "\n",
    "print(f'Medidas de resumo\\n{df_raw[\"Term\"].describe()}')\n",
    "print(f'\\nMaiores frequências\\n{df_raw[\"Term\"].value_counts().head(5)}')"
   ]
  },
  {
   "cell_type": "code",
   "execution_count": null,
   "metadata": {},
   "outputs": [],
   "source": [
    "# Boxplot da coluna Term, optamos por não remover pois há empréstimos com um número maior de meses, o que não deve ser descartado.\n",
    "Term = df_raw[\"Term\"]\n",
    "boxplot = Term.plot(kind=\"box\", figsize=(10, 5))"
   ]
  },
  {
   "cell_type": "code",
   "execution_count": null,
   "metadata": {},
   "outputs": [],
   "source": [
    "TermPlot = Term.hist(bins=15, figsize=(10, 5))\n",
    "plt.ylabel(\"Quantidade de Empréstimos\")\n",
    "plt.xlabel(\"Quantidade de meses para pagamento\")\n"
   ]
  },
  {
   "cell_type": "markdown",
   "metadata": {},
   "source": [
    "### NoEmp\n",
    "- [X] Medidas de Resumo\n",
    "- [X] Maiores frequências e distribuição\n",
    "- [X] Outliers e dizer a decisão\n",
    "- [X] Gráfico"
   ]
  },
  {
   "cell_type": "code",
   "execution_count": null,
   "metadata": {},
   "outputs": [],
   "source": [
    "# Medidas de Resumo\n",
    "\n",
    "print(f'Medidas de resumo\\n{df_raw[\"NoEmp\"].describe()}')\n",
    "print(f'\\nMaiores frequências\\n{df_raw[\"NoEmp\"].value_counts().head(10)}')"
   ]
  },
  {
   "cell_type": "code",
   "execution_count": null,
   "metadata": {},
   "outputs": [],
   "source": [
    "# Boxplot da coluna NoEmp\n",
    "NoEmp = df_raw[\"NoEmp\"]\n",
    "boxplot = NoEmp.plot(kind=\"box\", figsize=(10, 5))"
   ]
  },
  {
   "cell_type": "code",
   "execution_count": null,
   "metadata": {},
   "outputs": [],
   "source": [
    "# Optamos por não retirar os outliers pois realmente existem empresas com grande número de funcionários\n",
    "#  (sendo o maior valor 9999 - coerente para uma empresa de médio/grande porte), aplicamos a escala logaritmica no eixo Y para melhor visualização.\n",
    "NoEmpPlot = NoEmp.hist(bins=100, figsize=(10, 5))\n",
    "plt.ylabel(\"Quantidade de Empréstimos\")\n",
    "plt.xlabel(\"Quantidade de meses para pagamento\")\n",
    "plt.yscale('log')"
   ]
  },
  {
   "cell_type": "code",
   "execution_count": null,
   "metadata": {},
   "outputs": [],
   "source": [
    "df_corr = df_raw[['GrAppv', 'DisbursementGross', 'Term', 'NoEmp']].corr()\n",
    "df_corr"
   ]
  },
  {
   "cell_type": "code",
   "execution_count": null,
   "metadata": {},
   "outputs": [],
   "source": [
    "sns.heatmap(df_corr, vmin=-1, vmax=1, cmap='coolwarm', center=None, robust=False, annot=True, fmt='.2g', annot_kws=None, linewidths=0.1, linecolor='white') "
   ]
  },
  {
   "cell_type": "markdown",
   "metadata": {},
   "source": [
    "## Parte 2"
   ]
  },
  {
   "cell_type": "code",
   "execution_count": null,
   "metadata": {},
   "outputs": [],
   "source": [
    "valores = np.load('values_squad4.npy')\n",
    "plt.hist(valores,bins=50, density=True); "
   ]
  },
  {
   "cell_type": "markdown",
   "metadata": {},
   "source": [
    "### Não aparenta ser normal mas faremos o teste"
   ]
  },
  {
   "cell_type": "code",
   "execution_count": null,
   "metadata": {},
   "outputs": [],
   "source": [
    "# Cálculo da média e desvio padrão da AMOSTRA\n",
    "media = np.mean(valores)\n",
    "S = np.std(valores)"
   ]
  },
  {
   "cell_type": "markdown",
   "metadata": {},
   "source": [
    "### TESTE DA DISTRIBUIÇÃO NORMAL"
   ]
  },
  {
   "cell_type": "code",
   "execution_count": null,
   "metadata": {},
   "outputs": [],
   "source": [
    "#Criando uma normal com a média e desvio da amostra\n",
    "normal = stats.norm(loc = media, scale=S)\n"
   ]
  },
  {
   "cell_type": "code",
   "execution_count": null,
   "metadata": {},
   "outputs": [],
   "source": [
    "plt.hist(normal.rvs(size=1000),bins=40);"
   ]
  },
  {
   "cell_type": "code",
   "execution_count": null,
   "metadata": {},
   "outputs": [],
   "source": [
    "k = 150\n",
    "interval = np.linspace(np.min(valores), np.max(valores), k)\n",
    "hist, bins = np.histogram(valores, bins=interval)"
   ]
  },
  {
   "cell_type": "code",
   "execution_count": null,
   "metadata": {},
   "outputs": [],
   "source": [
    "# valores acumulados\n",
    "normal_acumulada = normal.cdf(interval)\n",
    "plt.plot(normal_acumulada)"
   ]
  },
  {
   "cell_type": "code",
   "execution_count": null,
   "metadata": {},
   "outputs": [],
   "source": [
    "area_bins = normal_acumulada[1:] - normal_acumulada[:-1]\n",
    "frequencia_teorica = area_bins * len(valores)"
   ]
  },
  {
   "cell_type": "code",
   "execution_count": null,
   "metadata": {},
   "outputs": [],
   "source": [
    "sum(area_bins)"
   ]
  },
  {
   "cell_type": "code",
   "execution_count": null,
   "metadata": {},
   "outputs": [],
   "source": [
    "plt.plot(frequencia_teorica)"
   ]
  },
  {
   "cell_type": "code",
   "execution_count": null,
   "metadata": {},
   "outputs": [],
   "source": [
    "chi_amostra = np.sum((frequencia_teorica - hist)**2/(frequencia_teorica+1))\n",
    "chi_amostra"
   ]
  },
  {
   "cell_type": "code",
   "execution_count": null,
   "metadata": {},
   "outputs": [],
   "source": [
    "chi_critico = stats.chi2.ppf(0.95,df=k-2-1)\n",
    "chi_critico"
   ]
  },
  {
   "cell_type": "code",
   "execution_count": null,
   "metadata": {},
   "outputs": [],
   "source": [
    "if chi_amostra > chi_critico:\n",
    "  print(f'Hipótese nula rejeitada pois chi_amostra ({chi_amostra}) > chi_critico ({chi_critico})')\n",
    "else:\n",
    "  print(f'Hipótese nula não rejeitada pois chi_amostra ({chi_amostra}) < chi_critico ({chi_critico})')"
   ]
  },
  {
   "cell_type": "code",
   "execution_count": null,
   "metadata": {},
   "outputs": [],
   "source": []
  }
 ],
 "metadata": {
  "kernelspec": {
   "display_name": "Python 3.10.4 64-bit",
   "language": "python",
   "name": "python3"
  },
  "language_info": {
   "codemirror_mode": {
    "name": "ipython",
    "version": 3
   },
   "file_extension": ".py",
   "mimetype": "text/x-python",
   "name": "python",
   "nbconvert_exporter": "python",
   "pygments_lexer": "ipython3",
   "version": "3.10.4"
  },
  "orig_nbformat": 4,
  "vscode": {
   "interpreter": {
    "hash": "780041ee5236f7353a360e799dd9cba6752635ca0f586cb7813bb6fd62d723d2"
   }
  }
 },
 "nbformat": 4,
 "nbformat_minor": 2
}
